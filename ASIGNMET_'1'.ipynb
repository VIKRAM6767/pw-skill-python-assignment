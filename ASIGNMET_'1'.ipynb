{
  "nbformat": 4,
  "nbformat_minor": 0,
  "metadata": {
    "colab": {
      "provenance": [],
      "authorship_tag": "ABX9TyNBhA5wVpUlVcs0qVleSDLG",
      "include_colab_link": true
    },
    "kernelspec": {
      "name": "python3",
      "display_name": "Python 3"
    },
    "language_info": {
      "name": "python"
    }
  },
  "cells": [
    {
      "cell_type": "markdown",
      "metadata": {
        "id": "view-in-github",
        "colab_type": "text"
      },
      "source": [
        "<a href=\"https://colab.research.google.com/github/VIKRAM6767/pw-skill-python-assignment/blob/main/ASIGNMET_'1'.ipynb\" target=\"_parent\"><img src=\"https://colab.research.google.com/assets/colab-badge.svg\" alt=\"Open In Colab\"/></a>"
      ]
    },
    {
      "cell_type": "markdown",
      "source": [
        "1.What is pyhton and why is it popular ?"
      ],
      "metadata": {
        "id": "pxRWXC2SwrX8"
      }
    },
    {
      "cell_type": "markdown",
      "source": [
        "=> python is high level programming language that is known for its simplicity, readibility, and versility and it is popular because itnis used for high range such as web **development** e.g = django, flask , **artificial intelligence & machine learning , data analy, automobiletics e.t.c.**"
      ],
      "metadata": {
        "id": "z-d4NIh93BuX"
      }
    },
    {
      "cell_type": "markdown",
      "source": [
        " 2. What is interpreater in python ?"
      ],
      "metadata": {
        "id": "235TrA4O4_ft"
      }
    },
    {
      "cell_type": "markdown",
      "source": [
        "=> An interpreater is a program that reeds and runs your python coad line by line ."
      ],
      "metadata": {
        "id": "HN1QmS8S5Wpm"
      }
    },
    {
      "cell_type": "markdown",
      "source": [
        "3.What is pre-defined keywords in python ?"
      ],
      "metadata": {
        "id": "JjSl2mH25zIv"
      }
    },
    {
      "cell_type": "markdown",
      "source": [
        "=> in python keyword are special words that are already defined by by the language and have a specific meaning."
      ],
      "metadata": {
        "id": "uyE9OUyH6PDc"
      }
    },
    {
      "cell_type": "markdown",
      "source": [
        "4.Can keywors used as variable names ?"
      ],
      "metadata": {
        "id": "6EdacRfr6xFH"
      }
    },
    {
      "cell_type": "markdown",
      "source": [
        "=> No, cannot use keywords asa a variable names in python."
      ],
      "metadata": {
        "id": "UVFI36as7JZT"
      }
    },
    {
      "cell_type": "markdown",
      "source": [
        "5.What is mutability in pyhton ?"
      ],
      "metadata": {
        "id": "d1Z-rPkQ7hkD"
      }
    },
    {
      "cell_type": "markdown",
      "source": [
        "=> mutubality is refer to if an object valur can be changed.  just e.g = list [ 1, 2, 3] - can change."
      ],
      "metadata": {
        "id": "M2UjBVQ48LPp"
      }
    },
    {
      "cell_type": "markdown",
      "source": [
        "6.Why are list mutable But, tuples are immutable ?"
      ],
      "metadata": {
        "id": "amT16iEx8vjw"
      }
    },
    {
      "cell_type": "markdown",
      "source": [
        "=> LIST= List are designed to be flexible and dynamic can be add , remove, or changed"
      ],
      "metadata": {
        "id": "gRCh3ZMq9X9_"
      }
    },
    {
      "cell_type": "markdown",
      "source": [
        "=> TUPLES= Tuples are designed to be only fixed amount of object can be add meant to be project data. once creat it can't be changed."
      ],
      "metadata": {
        "id": "JocVEaM49TZI"
      }
    },
    {
      "cell_type": "markdown",
      "source": [
        "7.What is difference between \"==\" ans \"is\" operators in python ?"
      ],
      "metadata": {
        "id": "8Ja32Se7-wfY"
      }
    },
    {
      "cell_type": "markdown",
      "source": [
        "=>  \"==\"(equality operator) check if the value of two variables are equal.  "
      ],
      "metadata": {
        "id": "BqIBJu-xCofe"
      }
    },
    {
      "cell_type": "markdown",
      "source": [
        "=> is (identity operator) it checks if two variable refer to the same object in memory."
      ],
      "metadata": {
        "id": "xKtsuL67-rT3"
      }
    },
    {
      "cell_type": "markdown",
      "source": [
        "8.What are logical operators in python ?"
      ],
      "metadata": {
        "id": "v8cKhQ9K5SRg"
      }
    },
    {
      "cell_type": "markdown",
      "source": [
        "=> Logical operators are use to combine **conditional statement** . python has three main logical operators. 1. and, 2. or, 3.not"
      ],
      "metadata": {
        "id": "jLlSgRgx4zLf"
      }
    },
    {
      "cell_type": "code",
      "source": [
        "9.What  Type casting In python ?"
      ],
      "metadata": {
        "id": "mHqRFvapE6c3"
      },
      "execution_count": null,
      "outputs": []
    },
    {
      "cell_type": "markdown",
      "source": [
        "=> Type casting in the python is convert one data types in to another automatically when no data loss happens."
      ],
      "metadata": {
        "id": "Lf8_GJY7FS6P"
      }
    },
    {
      "cell_type": "code",
      "source": [
        "10 What Is difference between IMPLICIT And EXPLICIT Type casting ?"
      ],
      "metadata": {
        "id": "ffWgRX3XHKbc"
      },
      "execution_count": null,
      "outputs": []
    },
    {
      "cell_type": "markdown",
      "source": [
        "=>  IMPLICIT= it is use when you trust python to handle it safety."
      ],
      "metadata": {
        "id": "UZeC8TtSHsnN"
      }
    },
    {
      "cell_type": "markdown",
      "source": [
        "=>EXPLICIT= it is use when you need control over the conversation."
      ],
      "metadata": {
        "id": "6qDTrCZFIdBI"
      }
    },
    {
      "cell_type": "markdown",
      "source": [
        "11 What is the purpose of conditional statements in python ?"
      ],
      "metadata": {
        "id": "UhGzyLsCIzia"
      }
    },
    {
      "cell_type": "markdown",
      "source": [
        " => **Conditional statements** are used to make decisions in your program based on certain conditions. They allow your program to execute different blocks of code depending on whether a condition is TRUE or FALSE."
      ],
      "metadata": {
        "id": "u_C9SfQyJb1y"
      }
    },
    {
      "cell_type": "markdown",
      "source": [
        "MAIN PURPOSE ARE 1. Control the flow of a program 2. add logic and intelligence 3. Handle multiple scenarious."
      ],
      "metadata": {
        "id": "R_NGKYjNKOUV"
      }
    },
    {
      "cell_type": "markdown",
      "source": [
        "12 How does the elif statements work ?"
      ],
      "metadata": {
        "id": "9jSH0QnYKwFP"
      }
    },
    {
      "cell_type": "markdown",
      "source": [
        "=> The elif (short for \"else if\") statements is used to check multiple conditions one after another. It comes after** if **and before** else** and it runs only if the condition is false."
      ],
      "metadata": {
        "id": "sOqTsQUHIs8Y"
      }
    },
    {
      "cell_type": "markdown",
      "source": [
        "13 What is the difference between for and while loops in python ?"
      ],
      "metadata": {
        "id": "_LGftBmjMV1Y"
      }
    },
    {
      "cell_type": "markdown",
      "source": [
        "=> Both for and while loops are used to repeat a block of code but they are used in different situations."
      ],
      "metadata": {
        "id": "H1s7s2OvM5dt"
      }
    },
    {
      "cell_type": "markdown",
      "source": [
        "14 Describe a scenario where a while loop is more suitable than a for loop."
      ],
      "metadata": {
        "id": "EAw8XvgDNNTd"
      }
    },
    {
      "cell_type": "markdown",
      "source": [
        "=> A while loop is more suitable than a for loop when you don't know in advance how many times the loop should run - instead, it should continue until a certain condition becomes false."
      ],
      "metadata": {
        "id": "Vu-zPgyJOL21"
      }
    },
    {
      "cell_type": "markdown",
      "source": [
        "**PRACTICAL QUESTIONS**"
      ],
      "metadata": {
        "id": "cBVZEVX4sLCx"
      }
    },
    {
      "cell_type": "markdown",
      "source": [
        "1.Write a python program to print a \"Hello,World!\""
      ],
      "metadata": {
        "id": "otcoH8VysVGW"
      }
    },
    {
      "cell_type": "code",
      "source": [
        "print(\"Hello world\")"
      ],
      "metadata": {
        "colab": {
          "base_uri": "https://localhost:8080/"
        },
        "id": "NGwnHlMGsstm",
        "outputId": "5a926c2b-5e7c-46fb-bacf-129905aa8aff"
      },
      "execution_count": null,
      "outputs": [
        {
          "output_type": "stream",
          "name": "stdout",
          "text": [
            "Hello world\n"
          ]
        }
      ]
    },
    {
      "cell_type": "markdown",
      "source": [
        "2.Write a python program that displays your name and age."
      ],
      "metadata": {
        "id": "Ry_3ON5XtAqG"
      }
    },
    {
      "cell_type": "code",
      "source": [
        "name = \"Aman Raj\"\n",
        "Age = 18\n",
        "print(\"name:\" , name)\n",
        "print(\"Age:\"  , Age)"
      ],
      "metadata": {
        "colab": {
          "base_uri": "https://localhost:8080/"
        },
        "id": "2fhCXNJLtMtY",
        "outputId": "0538bfd6-5904-40c6-b8a5-d2e723f97ea6"
      },
      "execution_count": null,
      "outputs": [
        {
          "output_type": "stream",
          "name": "stdout",
          "text": [
            "name: Aman Raj\n",
            "Age: 18\n"
          ]
        }
      ]
    },
    {
      "cell_type": "markdown",
      "source": [
        "3.Write code to print all the pre-defined keywords in python using the keyword library."
      ],
      "metadata": {
        "id": "CZTZuPfZuak9"
      }
    },
    {
      "cell_type": "code",
      "source": [
        "import keyword\n",
        "print(keyword. kwlist)"
      ],
      "metadata": {
        "colab": {
          "base_uri": "https://localhost:8080/"
        },
        "id": "S7YGbP5Fuwx-",
        "outputId": "46d03092-3e76-4f86-f7e2-e9e3d42b1049"
      },
      "execution_count": null,
      "outputs": [
        {
          "output_type": "stream",
          "name": "stdout",
          "text": [
            "['False', 'None', 'True', 'and', 'as', 'assert', 'async', 'await', 'break', 'class', 'continue', 'def', 'del', 'elif', 'else', 'except', 'finally', 'for', 'from', 'global', 'if', 'import', 'in', 'is', 'lambda', 'nonlocal', 'not', 'or', 'pass', 'raise', 'return', 'try', 'while', 'with', 'yield']\n"
          ]
        }
      ]
    },
    {
      "cell_type": "markdown",
      "source": [
        "4.Write a program that check if a given word is a python keyword."
      ],
      "metadata": {
        "id": "nEjtkV3fvRlJ"
      }
    },
    {
      "cell_type": "code",
      "source": [
        "import keyword\n",
        "word = input(\"Enter a word: \")\n",
        "print(\"Is keyword:\" , keyword.iskeyword(word))"
      ],
      "metadata": {
        "colab": {
          "base_uri": "https://localhost:8080/"
        },
        "id": "iweCPamHvfiV",
        "outputId": "3b9a3583-52f2-4edf-b1c2-56a68f6df410"
      },
      "execution_count": null,
      "outputs": [
        {
          "output_type": "stream",
          "name": "stdout",
          "text": [
            "Enter a word: Hello\n",
            "Is keyword: False\n"
          ]
        }
      ]
    },
    {
      "cell_type": "markdown",
      "source": [
        "5.creat a list and tuple in python, and demonstrate how attempting to change work differently for each."
      ],
      "metadata": {
        "id": "k6c39qWTW8bZ"
      }
    },
    {
      "cell_type": "code",
      "source": [
        "my_list = [1, 2, 3]\n",
        "my_list[0] = 10\n",
        "print(my_list)"
      ],
      "metadata": {
        "colab": {
          "base_uri": "https://localhost:8080/"
        },
        "id": "hms4RV-BPoC2",
        "outputId": "0061f52b-62d9-48eb-d1b4-5b94a282afd9"
      },
      "execution_count": null,
      "outputs": [
        {
          "output_type": "stream",
          "name": "stdout",
          "text": [
            "[10, 2, 3]\n"
          ]
        }
      ]
    },
    {
      "cell_type": "markdown",
      "source": [
        "6.Write a function to dmonstrate the behaviour of mutable and immutable arguments."
      ],
      "metadata": {
        "id": "0yhHDDp5PZjT"
      }
    },
    {
      "cell_type": "code",
      "source": [
        "#mutable function\n",
        "my_list = [1,2,3,4, 'Aman Raj']\n",
        "my_list.append(5) my_list.remove(3) my_list[2] = 10\n",
        "print(my_list)"
      ],
      "metadata": {
        "colab": {
          "base_uri": "https://localhost:8080/",
          "height": 106
        },
        "id": "mcELtoFORWRM",
        "outputId": "b7e08dec-4fb0-40ad-80de-8a2d821eb0f0"
      },
      "execution_count": null,
      "outputs": [
        {
          "output_type": "error",
          "ename": "SyntaxError",
          "evalue": "invalid syntax (<ipython-input-13-0b977b5dce17>, line 3)",
          "traceback": [
            "\u001b[0;36m  File \u001b[0;32m\"<ipython-input-13-0b977b5dce17>\"\u001b[0;36m, line \u001b[0;32m3\u001b[0m\n\u001b[0;31m    my_list.append(5) my_list.remove(3) my_list[2] = 10\u001b[0m\n\u001b[0m                      ^\u001b[0m\n\u001b[0;31mSyntaxError\u001b[0m\u001b[0;31m:\u001b[0m invalid syntax\n"
          ]
        }
      ]
    },
    {
      "cell_type": "code",
      "source": [
        "#immutable function.\n",
        "my_tuple=(1,2,3,4,5,'aman')\n",
        "my_tuple[-1], my_tuple[0]=my_tuple[0], my_tuple[-1]\n",
        "print(my_tuple)"
      ],
      "metadata": {
        "colab": {
          "base_uri": "https://localhost:8080/",
          "height": 193
        },
        "id": "lVadnVHjSeTT",
        "outputId": "d24e45e5-4933-44be-dafb-8fbd5a989801"
      },
      "execution_count": null,
      "outputs": [
        {
          "output_type": "error",
          "ename": "TypeError",
          "evalue": "'tuple' object does not support item assignment",
          "traceback": [
            "\u001b[0;31m---------------------------------------------------------------------------\u001b[0m",
            "\u001b[0;31mTypeError\u001b[0m                                 Traceback (most recent call last)",
            "\u001b[0;32m<ipython-input-14-e57ac6385af1>\u001b[0m in \u001b[0;36m<cell line: 0>\u001b[0;34m()\u001b[0m\n\u001b[1;32m      1\u001b[0m \u001b[0;31m#immutable function.\u001b[0m\u001b[0;34m\u001b[0m\u001b[0;34m\u001b[0m\u001b[0m\n\u001b[1;32m      2\u001b[0m \u001b[0mmy_tuple\u001b[0m\u001b[0;34m=\u001b[0m\u001b[0;34m(\u001b[0m\u001b[0;36m1\u001b[0m\u001b[0;34m,\u001b[0m\u001b[0;36m2\u001b[0m\u001b[0;34m,\u001b[0m\u001b[0;36m3\u001b[0m\u001b[0;34m,\u001b[0m\u001b[0;36m4\u001b[0m\u001b[0;34m,\u001b[0m\u001b[0;36m5\u001b[0m\u001b[0;34m,\u001b[0m\u001b[0;34m'aman'\u001b[0m\u001b[0;34m)\u001b[0m\u001b[0;34m\u001b[0m\u001b[0;34m\u001b[0m\u001b[0m\n\u001b[0;32m----> 3\u001b[0;31m \u001b[0mmy_tuple\u001b[0m\u001b[0;34m[\u001b[0m\u001b[0;34m-\u001b[0m\u001b[0;36m1\u001b[0m\u001b[0;34m]\u001b[0m\u001b[0;34m,\u001b[0m \u001b[0mmy_tuple\u001b[0m\u001b[0;34m[\u001b[0m\u001b[0;36m0\u001b[0m\u001b[0;34m]\u001b[0m\u001b[0;34m=\u001b[0m\u001b[0mmy_tuple\u001b[0m\u001b[0;34m[\u001b[0m\u001b[0;36m0\u001b[0m\u001b[0;34m]\u001b[0m\u001b[0;34m,\u001b[0m \u001b[0mmy_tuple\u001b[0m\u001b[0;34m[\u001b[0m\u001b[0;34m-\u001b[0m\u001b[0;36m1\u001b[0m\u001b[0;34m]\u001b[0m\u001b[0;34m\u001b[0m\u001b[0;34m\u001b[0m\u001b[0m\n\u001b[0m\u001b[1;32m      4\u001b[0m \u001b[0mprint\u001b[0m\u001b[0;34m(\u001b[0m\u001b[0mmy_tuple\u001b[0m\u001b[0;34m)\u001b[0m\u001b[0;34m\u001b[0m\u001b[0;34m\u001b[0m\u001b[0m\n",
            "\u001b[0;31mTypeError\u001b[0m: 'tuple' object does not support item assignment"
          ]
        }
      ]
    },
    {
      "cell_type": "markdown",
      "source": [
        "7.Write a program that performs basic arithmetic operations on two user-input numbers."
      ],
      "metadata": {
        "id": "LY4PdMFUVEq9"
      }
    },
    {
      "cell_type": "code",
      "source": [
        "# Basic Arithmatic operations Program\n",
        "num1 = float(input(\"Enter the first number: \"))\n",
        "num2 = float(input(\"Enter the second number:\"))\n",
        "\n",
        "# Perform operations\n",
        "addition = num1 + num2\n",
        "subtraction = num1 - num2\n",
        "multiplication = num1 * num2\n",
        "\n",
        "# Handle division separately to avoid division by zero\n",
        "if num2 != 0:\n",
        "    division = num1 / num2\n",
        "else:\n",
        "    division = \"undefined (division by zero)\"\n",
        "\n",
        "    print(\"nResults:\")\n",
        "    print(\"addition:\" , addition)\n",
        "    print(\"Subtraction:\" , subtraction )\n",
        "    print(\"Multlipication:\" , multiplication)\n",
        "    print(\"Division:\" , division)"
      ],
      "metadata": {
        "colab": {
          "base_uri": "https://localhost:8080/"
        },
        "id": "VHqu3zTHVnMf",
        "outputId": "bd05819f-ff03-47fb-df7b-e49387432b01"
      },
      "execution_count": null,
      "outputs": [
        {
          "name": "stdout",
          "output_type": "stream",
          "text": [
            "Enter the first number: 10\n",
            "Enter the second number:5\n"
          ]
        }
      ]
    },
    {
      "cell_type": "markdown",
      "source": [
        "8.Write a program to demonstrate the use of logical operators."
      ],
      "metadata": {
        "id": "pxsygMn-a4H8"
      }
    },
    {
      "cell_type": "markdown",
      "source": [],
      "metadata": {
        "id": "SsHnoEJobSgI"
      }
    },
    {
      "cell_type": "code",
      "source": [
        "# logically operators are (and, or, not)\n",
        "#logical and operator (and)\n",
        "x = 69\n",
        "y = 75\n",
        "if x > y and y <= 15:\n",
        "  print(\"at least one of the condition is true.\")\n",
        "else:\n",
        "   print(\"both conditions are false.\")"
      ],
      "metadata": {
        "colab": {
          "base_uri": "https://localhost:8080/"
        },
        "id": "FzZefG5qbWMl",
        "outputId": "181ea477-d672-48dd-a507-8c1ebcdcc7f3"
      },
      "execution_count": null,
      "outputs": [
        {
          "output_type": "stream",
          "name": "stdout",
          "text": [
            "both conditions are false.\n"
          ]
        }
      ]
    },
    {
      "cell_type": "code",
      "source": [
        "# logically OR operator (or)\n",
        "a = 89\n",
        "b = 98\n",
        "if a > 80 or b > 99:\n",
        "   print (\"at least one condition is true.\")\n",
        "else:\n",
        "   print(\"both conditions are false.\")"
      ],
      "metadata": {
        "colab": {
          "base_uri": "https://localhost:8080/"
        },
        "id": "kWZAw8brdOa7",
        "outputId": "82f60313-f19c-46e1-8d92-0a11fe3a6124"
      },
      "execution_count": null,
      "outputs": [
        {
          "output_type": "stream",
          "name": "stdout",
          "text": [
            "at least one condition is true.\n"
          ]
        }
      ]
    },
    {
      "cell_type": "code",
      "source": [
        "# lpgically NOT operators (not)\n",
        "z = 15\n",
        "if not  (z > 20):\n",
        "  print('conditions is true.')\n",
        "else:\n",
        "  print(\"conditions is false.\")"
      ],
      "metadata": {
        "colab": {
          "base_uri": "https://localhost:8080/"
        },
        "id": "tpabynrieI4K",
        "outputId": "23c777c2-15cf-473d-89a4-9cc37411155a"
      },
      "execution_count": null,
      "outputs": [
        {
          "output_type": "stream",
          "name": "stdout",
          "text": [
            "conditions is true.\n"
          ]
        }
      ]
    },
    {
      "cell_type": "markdown",
      "source": [
        "9.Write a python program to convert user input from string to integer, float and boolean types."
      ],
      "metadata": {
        "id": "az-bMY89fInz"
      }
    },
    {
      "cell_type": "code",
      "source": [
        "a = '2.0'\n",
        "type(a)\n",
        "b = float(b)\n",
        "print(type(float(a)))"
      ],
      "metadata": {
        "colab": {
          "base_uri": "https://localhost:8080/"
        },
        "id": "cHNL6eWlfnzj",
        "outputId": "cd6febe8-16a2-4df8-92ea-0fa5291c17ad"
      },
      "execution_count": null,
      "outputs": [
        {
          "output_type": "stream",
          "name": "stdout",
          "text": [
            "<class 'float'>\n"
          ]
        }
      ]
    },
    {
      "cell_type": "code",
      "source": [
        "# str to float\n",
        "a = \"2.0\"\n",
        "type(\"a\")\n",
        "b + float(b)\n",
        "print(type(float(a)))"
      ],
      "metadata": {
        "colab": {
          "base_uri": "https://localhost:8080/"
        },
        "id": "D4xDoqCNgiTH",
        "outputId": "1c45c1ca-95a3-46c8-98cf-a7bab917aa4a"
      },
      "execution_count": null,
      "outputs": [
        {
          "output_type": "stream",
          "name": "stdout",
          "text": [
            "<class 'float'>\n"
          ]
        }
      ]
    },
    {
      "cell_type": "code",
      "source": [
        "# boolean in terms of str\n",
        "a = bool(\"Aman\")\n",
        "b = bool(\"\")\n",
        "c = bool(-75)\n",
        "print(a, b, c)"
      ],
      "metadata": {
        "colab": {
          "base_uri": "https://localhost:8080/"
        },
        "id": "cD9jlqcDg3bA",
        "outputId": "996ddcfb-b51c-4443-870b-9bc131098726"
      },
      "execution_count": null,
      "outputs": [
        {
          "output_type": "stream",
          "name": "stdout",
          "text": [
            "True False True\n"
          ]
        }
      ]
    },
    {
      "cell_type": "markdown",
      "source": [
        "10.Write code to demonstrate type casting with list elements."
      ],
      "metadata": {
        "id": "py_ZcbSNhihZ"
      }
    },
    {
      "cell_type": "code",
      "source": [
        "my_list = [\"1\", \"2\", \"3\", \"4\",]\n",
        "int_list = [int(x) for x in my_list]\n",
        "print(int_list)\n",
        "print(type(int_list[0]))"
      ],
      "metadata": {
        "colab": {
          "base_uri": "https://localhost:8080/"
        },
        "id": "JevAHdbshyxU",
        "outputId": "876c83e6-eb13-4fda-a043-0ed555125dd3"
      },
      "execution_count": null,
      "outputs": [
        {
          "output_type": "stream",
          "name": "stdout",
          "text": [
            "[1, 2, 3, 4]\n",
            "<class 'int'>\n"
          ]
        }
      ]
    },
    {
      "cell_type": "markdown",
      "source": [
        "11.Write a program that checks if a number is positive, negative, or zero."
      ],
      "metadata": {
        "id": "BO2NcTgnipzH"
      }
    },
    {
      "cell_type": "code",
      "source": [
        "# input from user\n",
        "num = float(input(\"Enter a number:\"))\n",
        "\n",
        "# check conditions\n",
        "if num > 0:\n",
        "  print(\"the number is positive.\")\n",
        "elif num < 0:\n",
        "  print(\"the number is negative.\")\n",
        "else:\n",
        "  print(\"the number is zero.\")"
      ],
      "metadata": {
        "colab": {
          "base_uri": "https://localhost:8080/"
        },
        "id": "lmUsngs8jEV_",
        "outputId": "ae241f77-e45e-4822-cb33-825c2216c38a"
      },
      "execution_count": null,
      "outputs": [
        {
          "output_type": "stream",
          "name": "stdout",
          "text": [
            "Enter a number:43.7\n",
            "the number is positive.\n"
          ]
        }
      ]
    },
    {
      "cell_type": "markdown",
      "source": [
        "12.Write a for loop to print a numbers from 1 to 10."
      ],
      "metadata": {
        "id": "aDukUgsukB-i"
      }
    },
    {
      "cell_type": "code",
      "source": [
        "for i in range (1, 11):\n",
        "  print(i)"
      ],
      "metadata": {
        "colab": {
          "base_uri": "https://localhost:8080/"
        },
        "id": "mpUJW-N-kWYe",
        "outputId": "655a36a3-c19e-4b3c-f977-54be136c46a1"
      },
      "execution_count": null,
      "outputs": [
        {
          "output_type": "stream",
          "name": "stdout",
          "text": [
            "1\n",
            "2\n",
            "3\n",
            "4\n",
            "5\n",
            "6\n",
            "7\n",
            "8\n",
            "9\n",
            "10\n"
          ]
        }
      ]
    },
    {
      "cell_type": "markdown",
      "source": [
        "13.Write a python program to find the sum of all even number between 1 and 50."
      ],
      "metadata": {
        "id": "CYqyG482kTht"
      }
    },
    {
      "cell_type": "code",
      "source": [
        "total = 0\n",
        "for number in range(2 , 51, 2):\n",
        "  total = number\n",
        "  print(f\"the sum of even number between 1 and 50 is: {total}\")"
      ],
      "metadata": {
        "colab": {
          "base_uri": "https://localhost:8080/"
        },
        "id": "c_hHq7ymlH5F",
        "outputId": "88f6d927-e21f-4fbc-b672-5e359a1cd8ac"
      },
      "execution_count": null,
      "outputs": [
        {
          "output_type": "stream",
          "name": "stdout",
          "text": [
            "the sum of even number between 1 and 50 is: 2\n",
            "the sum of even number between 1 and 50 is: 4\n",
            "the sum of even number between 1 and 50 is: 6\n",
            "the sum of even number between 1 and 50 is: 8\n",
            "the sum of even number between 1 and 50 is: 10\n",
            "the sum of even number between 1 and 50 is: 12\n",
            "the sum of even number between 1 and 50 is: 14\n",
            "the sum of even number between 1 and 50 is: 16\n",
            "the sum of even number between 1 and 50 is: 18\n",
            "the sum of even number between 1 and 50 is: 20\n",
            "the sum of even number between 1 and 50 is: 22\n",
            "the sum of even number between 1 and 50 is: 24\n",
            "the sum of even number between 1 and 50 is: 26\n",
            "the sum of even number between 1 and 50 is: 28\n",
            "the sum of even number between 1 and 50 is: 30\n",
            "the sum of even number between 1 and 50 is: 32\n",
            "the sum of even number between 1 and 50 is: 34\n",
            "the sum of even number between 1 and 50 is: 36\n",
            "the sum of even number between 1 and 50 is: 38\n",
            "the sum of even number between 1 and 50 is: 40\n",
            "the sum of even number between 1 and 50 is: 42\n",
            "the sum of even number between 1 and 50 is: 44\n",
            "the sum of even number between 1 and 50 is: 46\n",
            "the sum of even number between 1 and 50 is: 48\n",
            "the sum of even number between 1 and 50 is: 50\n"
          ]
        }
      ]
    },
    {
      "cell_type": "code",
      "source": [],
      "metadata": {
        "id": "X7sCZyTIlyBw"
      },
      "execution_count": null,
      "outputs": []
    },
    {
      "cell_type": "markdown",
      "source": [
        "14.write a program to reverse a string using a while loop."
      ],
      "metadata": {
        "id": "SXr3hOmKmGDp"
      }
    },
    {
      "cell_type": "code",
      "source": [
        "# get input from user\n",
        "original_string = (\"Enter a string to reverse: \")\n",
        "\n",
        "# initialize variables\n",
        "reversed_string = \"\"\n",
        "index = len(original_string)  - 1\n",
        "\n",
        "# use while loop to reverse the string\n",
        "while index >= 0:\n",
        "  reversed_string += original_string[index]\n",
        "  index -= 1\n",
        "\n",
        "# output the reversed string\n",
        "print(\"Reversed string:\", reversed_string)"
      ],
      "metadata": {
        "colab": {
          "base_uri": "https://localhost:8080/"
        },
        "id": "-YLluLH9mnLX",
        "outputId": "b907d84b-117d-42ef-90c6-6564cbb224bc"
      },
      "execution_count": null,
      "outputs": [
        {
          "output_type": "stream",
          "name": "stdout",
          "text": [
            "Reversed string:  :esrever ot gnirts a retnE\n"
          ]
        }
      ]
    },
    {
      "cell_type": "markdown",
      "source": [
        "15.Write a python program to calculate the factorial of a number provided by the user using a while loop."
      ],
      "metadata": {
        "id": "1G6i5sy0oViU"
      }
    },
    {
      "cell_type": "code",
      "source": [
        "# factorial calculation using while loop\n",
        "\n",
        "num = int(input('Enter a non-negative integer:'))\n",
        "\n",
        "# check if the number is negative\n",
        "if num < 0:\n",
        "  print(\"Factorial is not defined for negative numbers.\")\n",
        "else:\n",
        "    factorial = 1\n",
        "    i = 1\n",
        "    while i <= num:\n",
        "      factorial *= i\n",
        "      i += 1\n",
        "      print(f\"the factorial of {num} is {factorial}\")"
      ],
      "metadata": {
        "colab": {
          "base_uri": "https://localhost:8080/"
        },
        "id": "_6Wy5j9GornY",
        "outputId": "64de35d6-e4d3-4052-efd2-092cc08d1025"
      },
      "execution_count": null,
      "outputs": [
        {
          "output_type": "stream",
          "name": "stdout",
          "text": [
            "Enter a non-negative integer:7\n",
            "the factorial of 7 is 1\n",
            "the factorial of 7 is 2\n",
            "the factorial of 7 is 6\n",
            "the factorial of 7 is 24\n",
            "the factorial of 7 is 120\n",
            "the factorial of 7 is 720\n",
            "the factorial of 7 is 5040\n"
          ]
        }
      ]
    },
    {
      "cell_type": "code",
      "source": [],
      "metadata": {
        "id": "07y2XQPesqzG"
      },
      "execution_count": null,
      "outputs": []
    }
  ]
}